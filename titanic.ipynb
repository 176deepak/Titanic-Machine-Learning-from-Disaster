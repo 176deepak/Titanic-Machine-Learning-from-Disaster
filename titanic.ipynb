{
 "cells": [
  {
   "cell_type": "code",
   "execution_count": 1,
   "id": "e2b5afe1",
   "metadata": {
    "_cell_guid": "b1076dfc-b9ad-4769-8c92-a6c4dae69d19",
    "_uuid": "8f2839f25d086af736a60e9eeb907d3b93b6e0e5",
    "execution": {
     "iopub.execute_input": "2022-06-12T13:30:14.123876Z",
     "iopub.status.busy": "2022-06-12T13:30:14.122750Z",
     "iopub.status.idle": "2022-06-12T13:30:14.135912Z",
     "shell.execute_reply": "2022-06-12T13:30:14.135082Z"
    },
    "papermill": {
     "duration": 0.024316,
     "end_time": "2022-06-12T13:30:14.138497",
     "exception": false,
     "start_time": "2022-06-12T13:30:14.114181",
     "status": "completed"
    },
    "tags": []
   },
   "outputs": [
    {
     "name": "stdout",
     "output_type": "stream",
     "text": [
      "/kaggle/input/titanic/train.csv\n",
      "/kaggle/input/titanic/test.csv\n",
      "/kaggle/input/titanic/gender_submission.csv\n"
     ]
    }
   ],
   "source": [
    "# This Python 3 environment comes with many helpful analytics libraries installed\n",
    "# It is defined by the kaggle/python Docker image: https://github.com/kaggle/docker-python\n",
    "# For example, here's several helpful packages to load\n",
    "\n",
    "import numpy as np # linear algebra\n",
    "import pandas as pd # data processing, CSV file I/O (e.g. pd.read_csv)\n",
    "\n",
    "# Input data files are available in the read-only \"../input/\" directory\n",
    "# For example, running this (by clicking run or pressing Shift+Enter) will list all files under the input directory\n",
    "\n",
    "import os\n",
    "for dirname, _, filenames in os.walk('/kaggle/input'):\n",
    "    for filename in filenames:\n",
    "        print(os.path.join(dirname, filename))\n",
    "\n",
    "# You can write up to 20GB to the current directory (/kaggle/working/) that gets preserved as output when you create a version using \"Save & Run All\" \n",
    "# You can also write temporary files to /kaggle/temp/, but they won't be saved outside of the current session"
   ]
  },
  {
   "cell_type": "code",
   "execution_count": 2,
   "id": "db89944f",
   "metadata": {
    "execution": {
     "iopub.execute_input": "2022-06-12T13:30:14.153340Z",
     "iopub.status.busy": "2022-06-12T13:30:14.152969Z",
     "iopub.status.idle": "2022-06-12T13:30:14.175914Z",
     "shell.execute_reply": "2022-06-12T13:30:14.175255Z"
    },
    "papermill": {
     "duration": 0.032112,
     "end_time": "2022-06-12T13:30:14.177946",
     "exception": false,
     "start_time": "2022-06-12T13:30:14.145834",
     "status": "completed"
    },
    "tags": []
   },
   "outputs": [],
   "source": [
    "df_train = pd.read_csv(\"/kaggle/input/titanic/train.csv\")\n",
    "df_test = pd.read_csv(\"/kaggle/input/titanic/test.csv\")"
   ]
  },
  {
   "cell_type": "code",
   "execution_count": 3,
   "id": "d613e199",
   "metadata": {
    "execution": {
     "iopub.execute_input": "2022-06-12T13:30:14.191978Z",
     "iopub.status.busy": "2022-06-12T13:30:14.191349Z",
     "iopub.status.idle": "2022-06-12T13:30:14.211439Z",
     "shell.execute_reply": "2022-06-12T13:30:14.210498Z"
    },
    "papermill": {
     "duration": 0.02912,
     "end_time": "2022-06-12T13:30:14.213314",
     "exception": false,
     "start_time": "2022-06-12T13:30:14.184194",
     "status": "completed"
    },
    "tags": []
   },
   "outputs": [
    {
     "data": {
      "text/html": [
       "<div>\n",
       "<style scoped>\n",
       "    .dataframe tbody tr th:only-of-type {\n",
       "        vertical-align: middle;\n",
       "    }\n",
       "\n",
       "    .dataframe tbody tr th {\n",
       "        vertical-align: top;\n",
       "    }\n",
       "\n",
       "    .dataframe thead th {\n",
       "        text-align: right;\n",
       "    }\n",
       "</style>\n",
       "<table border=\"1\" class=\"dataframe\">\n",
       "  <thead>\n",
       "    <tr style=\"text-align: right;\">\n",
       "      <th></th>\n",
       "      <th>PassengerId</th>\n",
       "      <th>Survived</th>\n",
       "      <th>Pclass</th>\n",
       "      <th>Name</th>\n",
       "      <th>Sex</th>\n",
       "      <th>Age</th>\n",
       "      <th>SibSp</th>\n",
       "      <th>Parch</th>\n",
       "      <th>Ticket</th>\n",
       "      <th>Fare</th>\n",
       "      <th>Cabin</th>\n",
       "      <th>Embarked</th>\n",
       "    </tr>\n",
       "  </thead>\n",
       "  <tbody>\n",
       "    <tr>\n",
       "      <th>0</th>\n",
       "      <td>1</td>\n",
       "      <td>0</td>\n",
       "      <td>3</td>\n",
       "      <td>Braund, Mr. Owen Harris</td>\n",
       "      <td>male</td>\n",
       "      <td>22.0</td>\n",
       "      <td>1</td>\n",
       "      <td>0</td>\n",
       "      <td>A/5 21171</td>\n",
       "      <td>7.2500</td>\n",
       "      <td>NaN</td>\n",
       "      <td>S</td>\n",
       "    </tr>\n",
       "    <tr>\n",
       "      <th>1</th>\n",
       "      <td>2</td>\n",
       "      <td>1</td>\n",
       "      <td>1</td>\n",
       "      <td>Cumings, Mrs. John Bradley (Florence Briggs Th...</td>\n",
       "      <td>female</td>\n",
       "      <td>38.0</td>\n",
       "      <td>1</td>\n",
       "      <td>0</td>\n",
       "      <td>PC 17599</td>\n",
       "      <td>71.2833</td>\n",
       "      <td>C85</td>\n",
       "      <td>C</td>\n",
       "    </tr>\n",
       "    <tr>\n",
       "      <th>2</th>\n",
       "      <td>3</td>\n",
       "      <td>1</td>\n",
       "      <td>3</td>\n",
       "      <td>Heikkinen, Miss. Laina</td>\n",
       "      <td>female</td>\n",
       "      <td>26.0</td>\n",
       "      <td>0</td>\n",
       "      <td>0</td>\n",
       "      <td>STON/O2. 3101282</td>\n",
       "      <td>7.9250</td>\n",
       "      <td>NaN</td>\n",
       "      <td>S</td>\n",
       "    </tr>\n",
       "    <tr>\n",
       "      <th>3</th>\n",
       "      <td>4</td>\n",
       "      <td>1</td>\n",
       "      <td>1</td>\n",
       "      <td>Futrelle, Mrs. Jacques Heath (Lily May Peel)</td>\n",
       "      <td>female</td>\n",
       "      <td>35.0</td>\n",
       "      <td>1</td>\n",
       "      <td>0</td>\n",
       "      <td>113803</td>\n",
       "      <td>53.1000</td>\n",
       "      <td>C123</td>\n",
       "      <td>S</td>\n",
       "    </tr>\n",
       "    <tr>\n",
       "      <th>4</th>\n",
       "      <td>5</td>\n",
       "      <td>0</td>\n",
       "      <td>3</td>\n",
       "      <td>Allen, Mr. William Henry</td>\n",
       "      <td>male</td>\n",
       "      <td>35.0</td>\n",
       "      <td>0</td>\n",
       "      <td>0</td>\n",
       "      <td>373450</td>\n",
       "      <td>8.0500</td>\n",
       "      <td>NaN</td>\n",
       "      <td>S</td>\n",
       "    </tr>\n",
       "  </tbody>\n",
       "</table>\n",
       "</div>"
      ],
      "text/plain": [
       "   PassengerId  Survived  Pclass  \\\n",
       "0            1         0       3   \n",
       "1            2         1       1   \n",
       "2            3         1       3   \n",
       "3            4         1       1   \n",
       "4            5         0       3   \n",
       "\n",
       "                                                Name     Sex   Age  SibSp  \\\n",
       "0                            Braund, Mr. Owen Harris    male  22.0      1   \n",
       "1  Cumings, Mrs. John Bradley (Florence Briggs Th...  female  38.0      1   \n",
       "2                             Heikkinen, Miss. Laina  female  26.0      0   \n",
       "3       Futrelle, Mrs. Jacques Heath (Lily May Peel)  female  35.0      1   \n",
       "4                           Allen, Mr. William Henry    male  35.0      0   \n",
       "\n",
       "   Parch            Ticket     Fare Cabin Embarked  \n",
       "0      0         A/5 21171   7.2500   NaN        S  \n",
       "1      0          PC 17599  71.2833   C85        C  \n",
       "2      0  STON/O2. 3101282   7.9250   NaN        S  \n",
       "3      0            113803  53.1000  C123        S  \n",
       "4      0            373450   8.0500   NaN        S  "
      ]
     },
     "execution_count": 3,
     "metadata": {},
     "output_type": "execute_result"
    }
   ],
   "source": [
    "df_train.head()"
   ]
  },
  {
   "cell_type": "code",
   "execution_count": 4,
   "id": "e7d3e4e8",
   "metadata": {
    "execution": {
     "iopub.execute_input": "2022-06-12T13:30:14.227402Z",
     "iopub.status.busy": "2022-06-12T13:30:14.226597Z",
     "iopub.status.idle": "2022-06-12T13:30:14.240616Z",
     "shell.execute_reply": "2022-06-12T13:30:14.239666Z"
    },
    "papermill": {
     "duration": 0.023009,
     "end_time": "2022-06-12T13:30:14.242575",
     "exception": false,
     "start_time": "2022-06-12T13:30:14.219566",
     "status": "completed"
    },
    "tags": []
   },
   "outputs": [
    {
     "data": {
      "text/html": [
       "<div>\n",
       "<style scoped>\n",
       "    .dataframe tbody tr th:only-of-type {\n",
       "        vertical-align: middle;\n",
       "    }\n",
       "\n",
       "    .dataframe tbody tr th {\n",
       "        vertical-align: top;\n",
       "    }\n",
       "\n",
       "    .dataframe thead th {\n",
       "        text-align: right;\n",
       "    }\n",
       "</style>\n",
       "<table border=\"1\" class=\"dataframe\">\n",
       "  <thead>\n",
       "    <tr style=\"text-align: right;\">\n",
       "      <th></th>\n",
       "      <th>PassengerId</th>\n",
       "      <th>Pclass</th>\n",
       "      <th>Name</th>\n",
       "      <th>Sex</th>\n",
       "      <th>Age</th>\n",
       "      <th>SibSp</th>\n",
       "      <th>Parch</th>\n",
       "      <th>Ticket</th>\n",
       "      <th>Fare</th>\n",
       "      <th>Cabin</th>\n",
       "      <th>Embarked</th>\n",
       "    </tr>\n",
       "  </thead>\n",
       "  <tbody>\n",
       "    <tr>\n",
       "      <th>0</th>\n",
       "      <td>892</td>\n",
       "      <td>3</td>\n",
       "      <td>Kelly, Mr. James</td>\n",
       "      <td>male</td>\n",
       "      <td>34.5</td>\n",
       "      <td>0</td>\n",
       "      <td>0</td>\n",
       "      <td>330911</td>\n",
       "      <td>7.8292</td>\n",
       "      <td>NaN</td>\n",
       "      <td>Q</td>\n",
       "    </tr>\n",
       "    <tr>\n",
       "      <th>1</th>\n",
       "      <td>893</td>\n",
       "      <td>3</td>\n",
       "      <td>Wilkes, Mrs. James (Ellen Needs)</td>\n",
       "      <td>female</td>\n",
       "      <td>47.0</td>\n",
       "      <td>1</td>\n",
       "      <td>0</td>\n",
       "      <td>363272</td>\n",
       "      <td>7.0000</td>\n",
       "      <td>NaN</td>\n",
       "      <td>S</td>\n",
       "    </tr>\n",
       "    <tr>\n",
       "      <th>2</th>\n",
       "      <td>894</td>\n",
       "      <td>2</td>\n",
       "      <td>Myles, Mr. Thomas Francis</td>\n",
       "      <td>male</td>\n",
       "      <td>62.0</td>\n",
       "      <td>0</td>\n",
       "      <td>0</td>\n",
       "      <td>240276</td>\n",
       "      <td>9.6875</td>\n",
       "      <td>NaN</td>\n",
       "      <td>Q</td>\n",
       "    </tr>\n",
       "    <tr>\n",
       "      <th>3</th>\n",
       "      <td>895</td>\n",
       "      <td>3</td>\n",
       "      <td>Wirz, Mr. Albert</td>\n",
       "      <td>male</td>\n",
       "      <td>27.0</td>\n",
       "      <td>0</td>\n",
       "      <td>0</td>\n",
       "      <td>315154</td>\n",
       "      <td>8.6625</td>\n",
       "      <td>NaN</td>\n",
       "      <td>S</td>\n",
       "    </tr>\n",
       "    <tr>\n",
       "      <th>4</th>\n",
       "      <td>896</td>\n",
       "      <td>3</td>\n",
       "      <td>Hirvonen, Mrs. Alexander (Helga E Lindqvist)</td>\n",
       "      <td>female</td>\n",
       "      <td>22.0</td>\n",
       "      <td>1</td>\n",
       "      <td>1</td>\n",
       "      <td>3101298</td>\n",
       "      <td>12.2875</td>\n",
       "      <td>NaN</td>\n",
       "      <td>S</td>\n",
       "    </tr>\n",
       "  </tbody>\n",
       "</table>\n",
       "</div>"
      ],
      "text/plain": [
       "   PassengerId  Pclass                                          Name     Sex  \\\n",
       "0          892       3                              Kelly, Mr. James    male   \n",
       "1          893       3              Wilkes, Mrs. James (Ellen Needs)  female   \n",
       "2          894       2                     Myles, Mr. Thomas Francis    male   \n",
       "3          895       3                              Wirz, Mr. Albert    male   \n",
       "4          896       3  Hirvonen, Mrs. Alexander (Helga E Lindqvist)  female   \n",
       "\n",
       "    Age  SibSp  Parch   Ticket     Fare Cabin Embarked  \n",
       "0  34.5      0      0   330911   7.8292   NaN        Q  \n",
       "1  47.0      1      0   363272   7.0000   NaN        S  \n",
       "2  62.0      0      0   240276   9.6875   NaN        Q  \n",
       "3  27.0      0      0   315154   8.6625   NaN        S  \n",
       "4  22.0      1      1  3101298  12.2875   NaN        S  "
      ]
     },
     "execution_count": 4,
     "metadata": {},
     "output_type": "execute_result"
    }
   ],
   "source": [
    "df_test.head()"
   ]
  },
  {
   "cell_type": "code",
   "execution_count": 5,
   "id": "1e0bfbbc",
   "metadata": {
    "execution": {
     "iopub.execute_input": "2022-06-12T13:30:14.256925Z",
     "iopub.status.busy": "2022-06-12T13:30:14.256331Z",
     "iopub.status.idle": "2022-06-12T13:30:14.261046Z",
     "shell.execute_reply": "2022-06-12T13:30:14.260481Z"
    },
    "papermill": {
     "duration": 0.013584,
     "end_time": "2022-06-12T13:30:14.262604",
     "exception": false,
     "start_time": "2022-06-12T13:30:14.249020",
     "status": "completed"
    },
    "tags": []
   },
   "outputs": [
    {
     "data": {
      "text/plain": [
       "((891, 12), (418, 11))"
      ]
     },
     "execution_count": 5,
     "metadata": {},
     "output_type": "execute_result"
    }
   ],
   "source": [
    "df_train.shape, df_test.shape"
   ]
  },
  {
   "cell_type": "code",
   "execution_count": 6,
   "id": "562a06fb",
   "metadata": {
    "execution": {
     "iopub.execute_input": "2022-06-12T13:30:14.276547Z",
     "iopub.status.busy": "2022-06-12T13:30:14.276011Z",
     "iopub.status.idle": "2022-06-12T13:30:14.302277Z",
     "shell.execute_reply": "2022-06-12T13:30:14.301288Z"
    },
    "papermill": {
     "duration": 0.036051,
     "end_time": "2022-06-12T13:30:14.304868",
     "exception": false,
     "start_time": "2022-06-12T13:30:14.268817",
     "status": "completed"
    },
    "tags": []
   },
   "outputs": [
    {
     "name": "stdout",
     "output_type": "stream",
     "text": [
      "<class 'pandas.core.frame.DataFrame'>\n",
      "RangeIndex: 891 entries, 0 to 890\n",
      "Data columns (total 12 columns):\n",
      " #   Column       Non-Null Count  Dtype  \n",
      "---  ------       --------------  -----  \n",
      " 0   PassengerId  891 non-null    int64  \n",
      " 1   Survived     891 non-null    int64  \n",
      " 2   Pclass       891 non-null    int64  \n",
      " 3   Name         891 non-null    object \n",
      " 4   Sex          891 non-null    object \n",
      " 5   Age          714 non-null    float64\n",
      " 6   SibSp        891 non-null    int64  \n",
      " 7   Parch        891 non-null    int64  \n",
      " 8   Ticket       891 non-null    object \n",
      " 9   Fare         891 non-null    float64\n",
      " 10  Cabin        204 non-null    object \n",
      " 11  Embarked     889 non-null    object \n",
      "dtypes: float64(2), int64(5), object(5)\n",
      "memory usage: 83.7+ KB\n",
      "==================================================\n",
      "<class 'pandas.core.frame.DataFrame'>\n",
      "RangeIndex: 418 entries, 0 to 417\n",
      "Data columns (total 11 columns):\n",
      " #   Column       Non-Null Count  Dtype  \n",
      "---  ------       --------------  -----  \n",
      " 0   PassengerId  418 non-null    int64  \n",
      " 1   Pclass       418 non-null    int64  \n",
      " 2   Name         418 non-null    object \n",
      " 3   Sex          418 non-null    object \n",
      " 4   Age          332 non-null    float64\n",
      " 5   SibSp        418 non-null    int64  \n",
      " 6   Parch        418 non-null    int64  \n",
      " 7   Ticket       418 non-null    object \n",
      " 8   Fare         417 non-null    float64\n",
      " 9   Cabin        91 non-null     object \n",
      " 10  Embarked     418 non-null    object \n",
      "dtypes: float64(2), int64(4), object(5)\n",
      "memory usage: 36.0+ KB\n"
     ]
    }
   ],
   "source": [
    "df_train.info()\n",
    "print('='*50)\n",
    "df_test.info()"
   ]
  },
  {
   "cell_type": "code",
   "execution_count": 7,
   "id": "2ba35077",
   "metadata": {
    "execution": {
     "iopub.execute_input": "2022-06-12T13:30:14.320480Z",
     "iopub.status.busy": "2022-06-12T13:30:14.320134Z",
     "iopub.status.idle": "2022-06-12T13:30:14.350405Z",
     "shell.execute_reply": "2022-06-12T13:30:14.349433Z"
    },
    "papermill": {
     "duration": 0.040297,
     "end_time": "2022-06-12T13:30:14.352892",
     "exception": false,
     "start_time": "2022-06-12T13:30:14.312595",
     "status": "completed"
    },
    "tags": []
   },
   "outputs": [
    {
     "data": {
      "text/html": [
       "<div>\n",
       "<style scoped>\n",
       "    .dataframe tbody tr th:only-of-type {\n",
       "        vertical-align: middle;\n",
       "    }\n",
       "\n",
       "    .dataframe tbody tr th {\n",
       "        vertical-align: top;\n",
       "    }\n",
       "\n",
       "    .dataframe thead th {\n",
       "        text-align: right;\n",
       "    }\n",
       "</style>\n",
       "<table border=\"1\" class=\"dataframe\">\n",
       "  <thead>\n",
       "    <tr style=\"text-align: right;\">\n",
       "      <th></th>\n",
       "      <th>PassengerId</th>\n",
       "      <th>Survived</th>\n",
       "      <th>Pclass</th>\n",
       "      <th>Age</th>\n",
       "      <th>SibSp</th>\n",
       "      <th>Parch</th>\n",
       "      <th>Fare</th>\n",
       "    </tr>\n",
       "  </thead>\n",
       "  <tbody>\n",
       "    <tr>\n",
       "      <th>count</th>\n",
       "      <td>891.000000</td>\n",
       "      <td>891.000000</td>\n",
       "      <td>891.000000</td>\n",
       "      <td>714.000000</td>\n",
       "      <td>891.000000</td>\n",
       "      <td>891.000000</td>\n",
       "      <td>891.000000</td>\n",
       "    </tr>\n",
       "    <tr>\n",
       "      <th>mean</th>\n",
       "      <td>446.000000</td>\n",
       "      <td>0.383838</td>\n",
       "      <td>2.308642</td>\n",
       "      <td>29.699118</td>\n",
       "      <td>0.523008</td>\n",
       "      <td>0.381594</td>\n",
       "      <td>32.204208</td>\n",
       "    </tr>\n",
       "    <tr>\n",
       "      <th>std</th>\n",
       "      <td>257.353842</td>\n",
       "      <td>0.486592</td>\n",
       "      <td>0.836071</td>\n",
       "      <td>14.526497</td>\n",
       "      <td>1.102743</td>\n",
       "      <td>0.806057</td>\n",
       "      <td>49.693429</td>\n",
       "    </tr>\n",
       "    <tr>\n",
       "      <th>min</th>\n",
       "      <td>1.000000</td>\n",
       "      <td>0.000000</td>\n",
       "      <td>1.000000</td>\n",
       "      <td>0.420000</td>\n",
       "      <td>0.000000</td>\n",
       "      <td>0.000000</td>\n",
       "      <td>0.000000</td>\n",
       "    </tr>\n",
       "    <tr>\n",
       "      <th>25%</th>\n",
       "      <td>223.500000</td>\n",
       "      <td>0.000000</td>\n",
       "      <td>2.000000</td>\n",
       "      <td>20.125000</td>\n",
       "      <td>0.000000</td>\n",
       "      <td>0.000000</td>\n",
       "      <td>7.910400</td>\n",
       "    </tr>\n",
       "    <tr>\n",
       "      <th>50%</th>\n",
       "      <td>446.000000</td>\n",
       "      <td>0.000000</td>\n",
       "      <td>3.000000</td>\n",
       "      <td>28.000000</td>\n",
       "      <td>0.000000</td>\n",
       "      <td>0.000000</td>\n",
       "      <td>14.454200</td>\n",
       "    </tr>\n",
       "    <tr>\n",
       "      <th>75%</th>\n",
       "      <td>668.500000</td>\n",
       "      <td>1.000000</td>\n",
       "      <td>3.000000</td>\n",
       "      <td>38.000000</td>\n",
       "      <td>1.000000</td>\n",
       "      <td>0.000000</td>\n",
       "      <td>31.000000</td>\n",
       "    </tr>\n",
       "    <tr>\n",
       "      <th>max</th>\n",
       "      <td>891.000000</td>\n",
       "      <td>1.000000</td>\n",
       "      <td>3.000000</td>\n",
       "      <td>80.000000</td>\n",
       "      <td>8.000000</td>\n",
       "      <td>6.000000</td>\n",
       "      <td>512.329200</td>\n",
       "    </tr>\n",
       "  </tbody>\n",
       "</table>\n",
       "</div>"
      ],
      "text/plain": [
       "       PassengerId    Survived      Pclass         Age       SibSp  \\\n",
       "count   891.000000  891.000000  891.000000  714.000000  891.000000   \n",
       "mean    446.000000    0.383838    2.308642   29.699118    0.523008   \n",
       "std     257.353842    0.486592    0.836071   14.526497    1.102743   \n",
       "min       1.000000    0.000000    1.000000    0.420000    0.000000   \n",
       "25%     223.500000    0.000000    2.000000   20.125000    0.000000   \n",
       "50%     446.000000    0.000000    3.000000   28.000000    0.000000   \n",
       "75%     668.500000    1.000000    3.000000   38.000000    1.000000   \n",
       "max     891.000000    1.000000    3.000000   80.000000    8.000000   \n",
       "\n",
       "            Parch        Fare  \n",
       "count  891.000000  891.000000  \n",
       "mean     0.381594   32.204208  \n",
       "std      0.806057   49.693429  \n",
       "min      0.000000    0.000000  \n",
       "25%      0.000000    7.910400  \n",
       "50%      0.000000   14.454200  \n",
       "75%      0.000000   31.000000  \n",
       "max      6.000000  512.329200  "
      ]
     },
     "execution_count": 7,
     "metadata": {},
     "output_type": "execute_result"
    }
   ],
   "source": [
    "df_train.describe()"
   ]
  },
  {
   "cell_type": "code",
   "execution_count": 8,
   "id": "2cb8c62c",
   "metadata": {
    "execution": {
     "iopub.execute_input": "2022-06-12T13:30:14.368539Z",
     "iopub.status.busy": "2022-06-12T13:30:14.367955Z",
     "iopub.status.idle": "2022-06-12T13:30:14.376673Z",
     "shell.execute_reply": "2022-06-12T13:30:14.375967Z"
    },
    "papermill": {
     "duration": 0.018776,
     "end_time": "2022-06-12T13:30:14.378435",
     "exception": false,
     "start_time": "2022-06-12T13:30:14.359659",
     "status": "completed"
    },
    "tags": []
   },
   "outputs": [
    {
     "data": {
      "text/plain": [
       "PassengerId      0\n",
       "Survived         0\n",
       "Pclass           0\n",
       "Name             0\n",
       "Sex              0\n",
       "Age            177\n",
       "SibSp            0\n",
       "Parch            0\n",
       "Ticket           0\n",
       "Fare             0\n",
       "Cabin          687\n",
       "Embarked         2\n",
       "dtype: int64"
      ]
     },
     "execution_count": 8,
     "metadata": {},
     "output_type": "execute_result"
    }
   ],
   "source": [
    "df_train.isnull().sum()"
   ]
  },
  {
   "cell_type": "code",
   "execution_count": 9,
   "id": "16f981ae",
   "metadata": {
    "execution": {
     "iopub.execute_input": "2022-06-12T13:30:14.393948Z",
     "iopub.status.busy": "2022-06-12T13:30:14.393335Z",
     "iopub.status.idle": "2022-06-12T13:30:15.294946Z",
     "shell.execute_reply": "2022-06-12T13:30:15.294273Z"
    },
    "papermill": {
     "duration": 0.911675,
     "end_time": "2022-06-12T13:30:15.297035",
     "exception": false,
     "start_time": "2022-06-12T13:30:14.385360",
     "status": "completed"
    },
    "tags": []
   },
   "outputs": [],
   "source": [
    "import matplotlib.pyplot as plt\n",
    "import seaborn as sns"
   ]
  },
  {
   "cell_type": "code",
   "execution_count": 10,
   "id": "f1cf36d7",
   "metadata": {
    "execution": {
     "iopub.execute_input": "2022-06-12T13:30:15.313036Z",
     "iopub.status.busy": "2022-06-12T13:30:15.312669Z",
     "iopub.status.idle": "2022-06-12T13:30:15.514361Z",
     "shell.execute_reply": "2022-06-12T13:30:15.513724Z"
    },
    "papermill": {
     "duration": 0.211551,
     "end_time": "2022-06-12T13:30:15.516049",
     "exception": false,
     "start_time": "2022-06-12T13:30:15.304498",
     "status": "completed"
    },
    "tags": []
   },
   "outputs": [
    {
     "data": {
      "text/plain": [
       "<AxesSubplot:>"
      ]
     },
     "execution_count": 10,
     "metadata": {},
     "output_type": "execute_result"
    },
    {
     "data": {
      "image/png": "[encoded data removed]",
      "text/plain": [
       "<Figure size 432x288 with 1 Axes>"
      ]
     },
     "metadata": {
      "needs_background": "light"
     },
     "output_type": "display_data"
    }
   ],
   "source": [
    "sns.heatmap(data=df_train.isnull(), yticklabels=False, cbar=False, cmap='viridis' )"
   ]
  },
  {
   "cell_type": "code",
   "execution_count": 11,
   "id": "6abad210",
   "metadata": {
    "execution": {
     "iopub.execute_input": "2022-06-12T13:30:15.531770Z",
     "iopub.status.busy": "2022-06-12T13:30:15.531023Z",
     "iopub.status.idle": "2022-06-12T13:30:15.718235Z",
     "shell.execute_reply": "2022-06-12T13:30:15.717211Z"
    },
    "papermill": {
     "duration": 0.197126,
     "end_time": "2022-06-12T13:30:15.720375",
     "exception": false,
     "start_time": "2022-06-12T13:30:15.523249",
     "status": "completed"
    },
    "tags": []
   },
   "outputs": [
    {
     "data": {
      "text/plain": [
       "<AxesSubplot:xlabel='Pclass', ylabel='Age'>"
      ]
     },
     "execution_count": 11,
     "metadata": {},
     "output_type": "execute_result"
    },
    {
     "data": {
      "image/png": "[encoded data removed]",
      "text/plain": [
       "<Figure size 432x288 with 1 Axes>"
      ]
     },
     "metadata": {
      "needs_background": "light"
     },
     "output_type": "display_data"
    }
   ],
   "source": [
    "sns.boxplot(x='Pclass',y='Age',data=df_train)"
   ]
  },
  {
   "cell_type": "code",
   "execution_count": 12,
   "id": "1b4a515a",
   "metadata": {
    "execution": {
     "iopub.execute_input": "2022-06-12T13:30:15.740114Z",
     "iopub.status.busy": "2022-06-12T13:30:15.739145Z",
     "iopub.status.idle": "2022-06-12T13:30:15.744956Z",
     "shell.execute_reply": "2022-06-12T13:30:15.744354Z"
    },
    "papermill": {
     "duration": 0.016267,
     "end_time": "2022-06-12T13:30:15.746662",
     "exception": false,
     "start_time": "2022-06-12T13:30:15.730395",
     "status": "completed"
    },
    "tags": []
   },
   "outputs": [],
   "source": [
    "def impute_age(cols):\n",
    "    Pclass = cols[0]\n",
    "    Age = cols[1]\n",
    "    \n",
    "    if pd.isnull(Age):\n",
    "        if Pclass == 1:\n",
    "            return 37\n",
    "        elif Pclass==2:\n",
    "            return 27\n",
    "        else:\n",
    "            return 24\n",
    "    else:\n",
    "        return Age"
   ]
  },
  {
   "cell_type": "code",
   "execution_count": 13,
   "id": "37c9739c",
   "metadata": {
    "execution": {
     "iopub.execute_input": "2022-06-12T13:30:15.762529Z",
     "iopub.status.busy": "2022-06-12T13:30:15.762036Z",
     "iopub.status.idle": "2022-06-12T13:30:15.776249Z",
     "shell.execute_reply": "2022-06-12T13:30:15.775572Z"
    },
    "papermill": {
     "duration": 0.023985,
     "end_time": "2022-06-12T13:30:15.777886",
     "exception": false,
     "start_time": "2022-06-12T13:30:15.753901",
     "status": "completed"
    },
    "tags": []
   },
   "outputs": [],
   "source": [
    "df_train['Age']=df_train[['Pclass','Age']].apply(impute_age, axis=1)"
   ]
  },
  {
   "cell_type": "code",
   "execution_count": 14,
   "id": "ff95216f",
   "metadata": {
    "execution": {
     "iopub.execute_input": "2022-06-12T13:30:15.793917Z",
     "iopub.status.busy": "2022-06-12T13:30:15.793340Z",
     "iopub.status.idle": "2022-06-12T13:30:16.037566Z",
     "shell.execute_reply": "2022-06-12T13:30:16.036884Z"
    },
    "papermill": {
     "duration": 0.253926,
     "end_time": "2022-06-12T13:30:16.039212",
     "exception": false,
     "start_time": "2022-06-12T13:30:15.785286",
     "status": "completed"
    },
    "tags": []
   },
   "outputs": [
    {
     "data": {
      "text/plain": [
       "<AxesSubplot:>"
      ]
     },
     "execution_count": 14,
     "metadata": {},
     "output_type": "execute_result"
    },
    {
     "data": {
      "image/png": "[encoded data removed]",
      "text/plain": [
       "<Figure size 432x288 with 2 Axes>"
      ]
     },
     "metadata": {
      "needs_background": "light"
     },
     "output_type": "display_data"
    }
   ],
   "source": [
    "sns.heatmap(df_train.isnull(), yticklabels=False)"
   ]
  },
  {
   "cell_type": "code",
   "execution_count": 15,
   "id": "87c0d64b",
   "metadata": {
    "execution": {
     "iopub.execute_input": "2022-06-12T13:30:16.057047Z",
     "iopub.status.busy": "2022-06-12T13:30:16.056573Z",
     "iopub.status.idle": "2022-06-12T13:30:16.217608Z",
     "shell.execute_reply": "2022-06-12T13:30:16.216856Z"
    },
    "papermill": {
     "duration": 0.172356,
     "end_time": "2022-06-12T13:30:16.219634",
     "exception": false,
     "start_time": "2022-06-12T13:30:16.047278",
     "status": "completed"
    },
    "tags": []
   },
   "outputs": [
    {
     "data": {
      "text/plain": [
       "<AxesSubplot:xlabel='Survived', ylabel='count'>"
      ]
     },
     "execution_count": 15,
     "metadata": {},
     "output_type": "execute_result"
    },
    {
     "data": {
      "image/png": "[encoded data removed]",
      "text/plain": [
       "<Figure size 360x360 with 1 Axes>"
      ]
     },
     "metadata": {
      "needs_background": "light"
     },
     "output_type": "display_data"
    }
   ],
   "source": [
    "plt.figure(figsize=(5,5))\n",
    "sns.countplot(x='Survived',data=df_train,hue='Survived')"
   ]
  },
  {
   "cell_type": "code",
   "execution_count": 16,
   "id": "80b2e519",
   "metadata": {
    "execution": {
     "iopub.execute_input": "2022-06-12T13:30:16.236770Z",
     "iopub.status.busy": "2022-06-12T13:30:16.236450Z",
     "iopub.status.idle": "2022-06-12T13:30:16.404434Z",
     "shell.execute_reply": "2022-06-12T13:30:16.403709Z"
    },
    "papermill": {
     "duration": 0.178595,
     "end_time": "2022-06-12T13:30:16.406179",
     "exception": false,
     "start_time": "2022-06-12T13:30:16.227584",
     "status": "completed"
    },
    "tags": []
   },
   "outputs": [
    {
     "data": {
      "text/plain": [
       "<AxesSubplot:xlabel='Sex', ylabel='count'>"
      ]
     },
     "execution_count": 16,
     "metadata": {},
     "output_type": "execute_result"
    },
    {
     "data": {
      "image/png": "[encoded data removed]",
      "text/plain": [
       "<Figure size 360x360 with 1 Axes>"
      ]
     },
     "metadata": {
      "needs_background": "light"
     },
     "output_type": "display_data"
    }
   ],
   "source": [
    "plt.figure(figsize=(5,5))\n",
    "sns.countplot(x='Sex', data=df_train, hue='Sex')"
   ]
  },
  {
   "cell_type": "code",
   "execution_count": 17,
   "id": "f2e92f33",
   "metadata": {
    "execution": {
     "iopub.execute_input": "2022-06-12T13:30:16.424439Z",
     "iopub.status.busy": "2022-06-12T13:30:16.423999Z",
     "iopub.status.idle": "2022-06-12T13:30:16.562827Z",
     "shell.execute_reply": "2022-06-12T13:30:16.561692Z"
    },
    "papermill": {
     "duration": 0.151216,
     "end_time": "2022-06-12T13:30:16.566071",
     "exception": false,
     "start_time": "2022-06-12T13:30:16.414855",
     "status": "completed"
    },
    "tags": []
   },
   "outputs": [
    {
     "data": {
      "text/plain": [
       "<AxesSubplot:xlabel='Pclass', ylabel='count'>"
      ]
     },
     "execution_count": 17,
     "metadata": {},
     "output_type": "execute_result"
    },
    {
     "data": {
      "image/png": "[encoded data removed]",
      "text/plain": [
       "<Figure size 360x360 with 1 Axes>"
      ]
     },
     "metadata": {
      "needs_background": "light"
     },
     "output_type": "display_data"
    }
   ],
   "source": [
    "plt.figure(figsize=(5,5))\n",
    "sns.countplot(x='Pclass', data=df_train)"
   ]
  },
  {
   "cell_type": "code",
   "execution_count": 18,
   "id": "b1730387",
   "metadata": {
    "execution": {
     "iopub.execute_input": "2022-06-12T13:30:16.586465Z",
     "iopub.status.busy": "2022-06-12T13:30:16.586035Z",
     "iopub.status.idle": "2022-06-12T13:30:16.737715Z",
     "shell.execute_reply": "2022-06-12T13:30:16.736887Z"
    },
    "papermill": {
     "duration": 0.162866,
     "end_time": "2022-06-12T13:30:16.739527",
     "exception": false,
     "start_time": "2022-06-12T13:30:16.576661",
     "status": "completed"
    },
    "tags": []
   },
   "outputs": [
    {
     "data": {
      "text/plain": [
       "<AxesSubplot:xlabel='Embarked', ylabel='count'>"
      ]
     },
     "execution_count": 18,
     "metadata": {},
     "output_type": "execute_result"
    },
    {
     "data": {
      "image/png": "[encoded data removed]",
      "text/plain": [
       "<Figure size 720x360 with 1 Axes>"
      ]
     },
     "metadata": {
      "needs_background": "light"
     },
     "output_type": "display_data"
    }
   ],
   "source": [
    "plt.figure(figsize=(10,5))\n",
    "sns.countplot(x='Embarked', data=df_train,)"
   ]
  },
  {
   "cell_type": "code",
   "execution_count": 19,
   "id": "a747180e",
   "metadata": {
    "execution": {
     "iopub.execute_input": "2022-06-12T13:30:16.758559Z",
     "iopub.status.busy": "2022-06-12T13:30:16.758184Z",
     "iopub.status.idle": "2022-06-12T13:30:16.957177Z",
     "shell.execute_reply": "2022-06-12T13:30:16.956304Z"
    },
    "papermill": {
     "duration": 0.210783,
     "end_time": "2022-06-12T13:30:16.959185",
     "exception": false,
     "start_time": "2022-06-12T13:30:16.748402",
     "status": "completed"
    },
    "tags": []
   },
   "outputs": [
    {
     "data": {
      "text/plain": [
       "<Figure size 360x360 with 0 Axes>"
      ]
     },
     "metadata": {},
     "output_type": "display_data"
    },
    {
     "data": {
      "image/png": "[encoded data removed]",
      "text/plain": [
       "<Figure size 360x360 with 1 Axes>"
      ]
     },
     "metadata": {
      "needs_background": "light"
     },
     "output_type": "display_data"
    }
   ],
   "source": [
    "plt.figure(figsize=(5,5))\n",
    "sns.displot(data=df_train, x='Age', kind='kde')\n",
    "plt.show()"
   ]
  },
  {
   "cell_type": "code",
   "execution_count": 20,
   "id": "aadf1a31",
   "metadata": {
    "execution": {
     "iopub.execute_input": "2022-06-12T13:30:16.979535Z",
     "iopub.status.busy": "2022-06-12T13:30:16.978704Z",
     "iopub.status.idle": "2022-06-12T13:30:16.987189Z",
     "shell.execute_reply": "2022-06-12T13:30:16.986276Z"
    },
    "papermill": {
     "duration": 0.020662,
     "end_time": "2022-06-12T13:30:16.989039",
     "exception": false,
     "start_time": "2022-06-12T13:30:16.968377",
     "status": "completed"
    },
    "tags": []
   },
   "outputs": [
    {
     "data": {
      "text/plain": [
       "PassengerId      0\n",
       "Survived         0\n",
       "Pclass           0\n",
       "Name             0\n",
       "Sex              0\n",
       "Age              0\n",
       "SibSp            0\n",
       "Parch            0\n",
       "Ticket           0\n",
       "Fare             0\n",
       "Cabin          687\n",
       "Embarked         2\n",
       "dtype: int64"
      ]
     },
     "execution_count": 20,
     "metadata": {},
     "output_type": "execute_result"
    }
   ],
   "source": [
    "df_train.isnull().sum()"
   ]
  },
  {
   "cell_type": "code",
   "execution_count": 21,
   "id": "1c31a9c7",
   "metadata": {
    "execution": {
     "iopub.execute_input": "2022-06-12T13:30:17.009921Z",
     "iopub.status.busy": "2022-06-12T13:30:17.009246Z",
     "iopub.status.idle": "2022-06-12T13:30:17.014399Z",
     "shell.execute_reply": "2022-06-12T13:30:17.013622Z"
    },
    "papermill": {
     "duration": 0.017432,
     "end_time": "2022-06-12T13:30:17.016089",
     "exception": false,
     "start_time": "2022-06-12T13:30:16.998657",
     "status": "completed"
    },
    "tags": []
   },
   "outputs": [],
   "source": [
    "df_train=df_train.drop('Cabin', axis=1)"
   ]
  },
  {
   "cell_type": "code",
   "execution_count": 22,
   "id": "28cf54df",
   "metadata": {
    "execution": {
     "iopub.execute_input": "2022-06-12T13:30:17.036877Z",
     "iopub.status.busy": "2022-06-12T13:30:17.036084Z",
     "iopub.status.idle": "2022-06-12T13:30:17.041880Z",
     "shell.execute_reply": "2022-06-12T13:30:17.040928Z"
    },
    "papermill": {
     "duration": 0.017978,
     "end_time": "2022-06-12T13:30:17.043620",
     "exception": false,
     "start_time": "2022-06-12T13:30:17.025642",
     "status": "completed"
    },
    "tags": []
   },
   "outputs": [],
   "source": [
    "X=df_train.drop('Survived', axis=1)\n",
    "y=df_train['Survived']"
   ]
  },
  {
   "cell_type": "code",
   "execution_count": 23,
   "id": "d1486d0e",
   "metadata": {
    "execution": {
     "iopub.execute_input": "2022-06-12T13:30:17.064344Z",
     "iopub.status.busy": "2022-06-12T13:30:17.063757Z",
     "iopub.status.idle": "2022-06-12T13:30:17.397971Z",
     "shell.execute_reply": "2022-06-12T13:30:17.397283Z"
    },
    "papermill": {
     "duration": 0.346978,
     "end_time": "2022-06-12T13:30:17.400029",
     "exception": false,
     "start_time": "2022-06-12T13:30:17.053051",
     "status": "completed"
    },
    "tags": []
   },
   "outputs": [],
   "source": [
    "from sklearn.ensemble import RandomForestClassifier\n",
    "from sklearn import tree"
   ]
  },
  {
   "cell_type": "code",
   "execution_count": 24,
   "id": "bc761507",
   "metadata": {
    "execution": {
     "iopub.execute_input": "2022-06-12T13:30:17.421006Z",
     "iopub.status.busy": "2022-06-12T13:30:17.420386Z",
     "iopub.status.idle": "2022-06-12T13:30:17.424786Z",
     "shell.execute_reply": "2022-06-12T13:30:17.424210Z"
    },
    "papermill": {
     "duration": 0.016935,
     "end_time": "2022-06-12T13:30:17.426549",
     "exception": false,
     "start_time": "2022-06-12T13:30:17.409614",
     "status": "completed"
    },
    "tags": []
   },
   "outputs": [],
   "source": [
    "model=RandomForestClassifier(n_estimators=100, max_depth=5, random_state=42)"
   ]
  },
  {
   "cell_type": "code",
   "execution_count": 25,
   "id": "a60d430e",
   "metadata": {
    "execution": {
     "iopub.execute_input": "2022-06-12T13:30:17.446749Z",
     "iopub.status.busy": "2022-06-12T13:30:17.446073Z",
     "iopub.status.idle": "2022-06-12T13:30:17.458595Z",
     "shell.execute_reply": "2022-06-12T13:30:17.457807Z"
    },
    "papermill": {
     "duration": 0.024888,
     "end_time": "2022-06-12T13:30:17.460596",
     "exception": false,
     "start_time": "2022-06-12T13:30:17.435708",
     "status": "completed"
    },
    "tags": []
   },
   "outputs": [],
   "source": [
    "features=[\"Pclass\", \"Sex\", \"SibSp\", \"Parch\"]\n",
    "X = pd.get_dummies(df_train[features])\n",
    "X_test = pd.get_dummies(df_test[features])\n"
   ]
  },
  {
   "cell_type": "code",
   "execution_count": null,
   "id": "e46cf241",
   "metadata": {
    "papermill": {
     "duration": 0.008844,
     "end_time": "2022-06-12T13:30:17.478745",
     "exception": false,
     "start_time": "2022-06-12T13:30:17.469901",
     "status": "completed"
    },
    "tags": []
   },
   "outputs": [],
   "source": []
  },
  {
   "cell_type": "code",
   "execution_count": 26,
   "id": "4879b927",
   "metadata": {
    "execution": {
     "iopub.execute_input": "2022-06-12T13:30:17.498467Z",
     "iopub.status.busy": "2022-06-12T13:30:17.498073Z",
     "iopub.status.idle": "2022-06-12T13:30:17.643918Z",
     "shell.execute_reply": "2022-06-12T13:30:17.642905Z"
    },
    "papermill": {
     "duration": 0.158022,
     "end_time": "2022-06-12T13:30:17.645951",
     "exception": false,
     "start_time": "2022-06-12T13:30:17.487929",
     "status": "completed"
    },
    "tags": []
   },
   "outputs": [
    {
     "data": {
      "text/plain": [
       "RandomForestClassifier(max_depth=5, random_state=42)"
      ]
     },
     "execution_count": 26,
     "metadata": {},
     "output_type": "execute_result"
    }
   ],
   "source": [
    "model.fit(X,y)"
   ]
  },
  {
   "cell_type": "code",
   "execution_count": 27,
   "id": "2940c709",
   "metadata": {
    "execution": {
     "iopub.execute_input": "2022-06-12T13:30:17.665806Z",
     "iopub.status.busy": "2022-06-12T13:30:17.665445Z",
     "iopub.status.idle": "2022-06-12T13:30:17.688075Z",
     "shell.execute_reply": "2022-06-12T13:30:17.687173Z"
    },
    "papermill": {
     "duration": 0.035188,
     "end_time": "2022-06-12T13:30:17.690496",
     "exception": false,
     "start_time": "2022-06-12T13:30:17.655308",
     "status": "completed"
    },
    "tags": []
   },
   "outputs": [],
   "source": [
    "prediction = model.predict(X_test)"
   ]
  },
  {
   "cell_type": "code",
   "execution_count": 28,
   "id": "912a9d6c",
   "metadata": {
    "execution": {
     "iopub.execute_input": "2022-06-12T13:30:17.710869Z",
     "iopub.status.busy": "2022-06-12T13:30:17.710508Z",
     "iopub.status.idle": "2022-06-12T13:30:17.722129Z",
     "shell.execute_reply": "2022-06-12T13:30:17.721298Z"
    },
    "papermill": {
     "duration": 0.02393,
     "end_time": "2022-06-12T13:30:17.723935",
     "exception": false,
     "start_time": "2022-06-12T13:30:17.700005",
     "status": "completed"
    },
    "tags": []
   },
   "outputs": [
    {
     "data": {
      "text/html": [
       "<div>\n",
       "<style scoped>\n",
       "    .dataframe tbody tr th:only-of-type {\n",
       "        vertical-align: middle;\n",
       "    }\n",
       "\n",
       "    .dataframe tbody tr th {\n",
       "        vertical-align: top;\n",
       "    }\n",
       "\n",
       "    .dataframe thead th {\n",
       "        text-align: right;\n",
       "    }\n",
       "</style>\n",
       "<table border=\"1\" class=\"dataframe\">\n",
       "  <thead>\n",
       "    <tr style=\"text-align: right;\">\n",
       "      <th></th>\n",
       "      <th>Passengerid</th>\n",
       "      <th>Survived</th>\n",
       "    </tr>\n",
       "  </thead>\n",
       "  <tbody>\n",
       "    <tr>\n",
       "      <th>0</th>\n",
       "      <td>892</td>\n",
       "      <td>0</td>\n",
       "    </tr>\n",
       "    <tr>\n",
       "      <th>1</th>\n",
       "      <td>893</td>\n",
       "      <td>1</td>\n",
       "    </tr>\n",
       "    <tr>\n",
       "      <th>2</th>\n",
       "      <td>894</td>\n",
       "      <td>0</td>\n",
       "    </tr>\n",
       "    <tr>\n",
       "      <th>3</th>\n",
       "      <td>895</td>\n",
       "      <td>0</td>\n",
       "    </tr>\n",
       "    <tr>\n",
       "      <th>4</th>\n",
       "      <td>896</td>\n",
       "      <td>1</td>\n",
       "    </tr>\n",
       "    <tr>\n",
       "      <th>...</th>\n",
       "      <td>...</td>\n",
       "      <td>...</td>\n",
       "    </tr>\n",
       "    <tr>\n",
       "      <th>413</th>\n",
       "      <td>1305</td>\n",
       "      <td>0</td>\n",
       "    </tr>\n",
       "    <tr>\n",
       "      <th>414</th>\n",
       "      <td>1306</td>\n",
       "      <td>1</td>\n",
       "    </tr>\n",
       "    <tr>\n",
       "      <th>415</th>\n",
       "      <td>1307</td>\n",
       "      <td>0</td>\n",
       "    </tr>\n",
       "    <tr>\n",
       "      <th>416</th>\n",
       "      <td>1308</td>\n",
       "      <td>0</td>\n",
       "    </tr>\n",
       "    <tr>\n",
       "      <th>417</th>\n",
       "      <td>1309</td>\n",
       "      <td>0</td>\n",
       "    </tr>\n",
       "  </tbody>\n",
       "</table>\n",
       "<p>418 rows × 2 columns</p>\n",
       "</div>"
      ],
      "text/plain": [
       "     Passengerid  Survived\n",
       "0            892         0\n",
       "1            893         1\n",
       "2            894         0\n",
       "3            895         0\n",
       "4            896         1\n",
       "..           ...       ...\n",
       "413         1305         0\n",
       "414         1306         1\n",
       "415         1307         0\n",
       "416         1308         0\n",
       "417         1309         0\n",
       "\n",
       "[418 rows x 2 columns]"
      ]
     },
     "execution_count": 28,
     "metadata": {},
     "output_type": "execute_result"
    }
   ],
   "source": [
    "op = pd.DataFrame({'Passengerid':df_test.PassengerId, 'Survived':prediction})\n",
    "op"
   ]
  },
  {
   "cell_type": "code",
   "execution_count": 29,
   "id": "34b0de75",
   "metadata": {
    "execution": {
     "iopub.execute_input": "2022-06-12T13:30:17.744591Z",
     "iopub.status.busy": "2022-06-12T13:30:17.743773Z",
     "iopub.status.idle": "2022-06-12T13:30:17.750815Z",
     "shell.execute_reply": "2022-06-12T13:30:17.750237Z"
    },
    "papermill": {
     "duration": 0.0191,
     "end_time": "2022-06-12T13:30:17.752540",
     "exception": false,
     "start_time": "2022-06-12T13:30:17.733440",
     "status": "completed"
    },
    "tags": []
   },
   "outputs": [],
   "source": [
    "op.to_csv('submission.csv', index=False)"
   ]
  },
  {
   "cell_type": "code",
   "execution_count": null,
   "id": "7714cfbc",
   "metadata": {
    "papermill": {
     "duration": 0.009185,
     "end_time": "2022-06-12T13:30:17.771549",
     "exception": false,
     "start_time": "2022-06-12T13:30:17.762364",
     "status": "completed"
    },
    "tags": []
   },
   "outputs": [],
   "source": []
  }
 ],
 "metadata": {
  "kernelspec": {
   "display_name": "Python 3",
   "language": "python",
   "name": "python3"
  },
  "language_info": {
   "codemirror_mode": {
    "name": "ipython",
    "version": 3
   },
   "file_extension": ".py",
   "mimetype": "text/x-python",
   "name": "python",
   "nbconvert_exporter": "python",
   "pygments_lexer": "ipython3",
   "version": "3.7.12"
  },
  "papermill": {
   "default_parameters": {},
   "duration": 12.440603,
   "end_time": "2022-06-12T13:30:18.500781",
   "environment_variables": {},
   "exception": null,
   "input_path": "__notebook__.ipynb",
   "output_path": "__notebook__.ipynb",
   "parameters": {},
   "start_time": "2022-06-12T13:30:06.060178",
   "version": "2.3.4"
  }
 },
 "nbformat": 4,
 "nbformat_minor": 5
}
